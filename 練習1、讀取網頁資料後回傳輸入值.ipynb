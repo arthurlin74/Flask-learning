{
 "cells": [
  {
   "cell_type": "code",
   "execution_count": null,
   "id": "impressive-aviation",
   "metadata": {
    "scrolled": false
   },
   "outputs": [
    {
     "name": "stdout",
     "output_type": "stream",
     "text": [
      " * Serving Flask app \"__main__\" (lazy loading)\n",
      " * Environment: production\n",
      "   WARNING: This is a development server. Do not use it in a production deployment.\n",
      "   Use a production WSGI server instead.\n",
      " * Debug mode: off\n"
     ]
    },
    {
     "name": "stderr",
     "output_type": "stream",
     "text": [
      " * Running on http://127.0.0.1:8000/ (Press CTRL+C to quit)\n",
      "127.0.0.1 - - [01/Apr/2021 11:05:53] \"\u001b[37mGET / HTTP/1.1\u001b[0m\" 200 -\n",
      "127.0.0.1 - - [01/Apr/2021 11:05:53] \"\u001b[33mGET /favicon.ico HTTP/1.1\u001b[0m\" 404 -\n",
      "127.0.0.1 - - [01/Apr/2021 11:05:56] \"\u001b[37mPOST / HTTP/1.1\u001b[0m\" 200 -\n"
     ]
    }
   ],
   "source": [
    "from flask import Flask,render_template,request\n",
    "import traceback\n",
    "import sys\n",
    "\n",
    "def abort_msg(e):\n",
    "    \"\"\"500 bad request for exception\n",
    "\n",
    "    Returns:\n",
    "        500 and msg which caused problems\n",
    "    \"\"\"\n",
    "    error_class = e.__class__.__name__ # 引發錯誤的 class\n",
    "    detail = e.args[0] # 得到詳細的訊息\n",
    "    cl, exc, tb = sys.exc_info() # 得到錯誤的完整資訊 Call Stack\n",
    "    lastCallStack = traceback.extract_tb(tb)[-1] # 取得最後一行的錯誤訊息\n",
    "    fileName = lastCallStack[0] # 錯誤的檔案位置名稱\n",
    "    lineNum = lastCallStack[1] # 錯誤行數 \n",
    "    funcName = lastCallStack[2] # function 名稱\n",
    "    # generate the error message\n",
    "    errMsg = \"Exception raise in file: {}, line {}, in {}: [{}] {}. Please contact the member who is the person in charge of project!\".format(fileName, lineNum, funcName, error_class, detail)\n",
    "    # return 500 code\n",
    "    print(500, errMsg)\n",
    "\n",
    "\n",
    "app = Flask(__name__)\n",
    "\n",
    "@app.route('/',methods=['POST','GET'])\n",
    "def index2():\n",
    "    try:\n",
    "        if request.method =='POST':\n",
    "            if request.values['send']=='送出':\n",
    "                return render_template('index.html',name=request.values['user'])\n",
    "            else:\n",
    "                return render_template('index.html',name=\"\")\n",
    "        else:\n",
    "            return render_template('index.html')\n",
    "    except Exception as e:\n",
    "        abort_msg(e)\n",
    "        \n",
    "if __name__ == '__main__':\n",
    "    app.run(host='127.0.0.1',port='8000',debug=False)"
   ]
  },
  {
   "cell_type": "code",
   "execution_count": null,
   "id": "employed-taiwan",
   "metadata": {},
   "outputs": [],
   "source": []
  },
  {
   "cell_type": "code",
   "execution_count": null,
   "id": "accessible-highlight",
   "metadata": {},
   "outputs": [],
   "source": []
  }
 ],
 "metadata": {
  "kernelspec": {
   "display_name": "Python 3",
   "language": "python",
   "name": "python3"
  },
  "language_info": {
   "codemirror_mode": {
    "name": "ipython",
    "version": 3
   },
   "file_extension": ".py",
   "mimetype": "text/x-python",
   "name": "python",
   "nbconvert_exporter": "python",
   "pygments_lexer": "ipython3",
   "version": "3.9.2"
  }
 },
 "nbformat": 4,
 "nbformat_minor": 5
}
